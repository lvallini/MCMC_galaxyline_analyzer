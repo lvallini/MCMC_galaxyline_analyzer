{
 "cells": [
  {
   "cell_type": "code",
   "execution_count": null,
   "metadata": {},
   "outputs": [],
   "source": [
    "import numpy as np\n",
    "import analytical_equations as eqs\n",
    "from MCMC_routines import MC_model,galaxy_template"
   ]
  },
  {
   "cell_type": "markdown",
   "metadata": {},
   "source": [
    "# Provide your input data:  \n",
    "   - <b> Sigma_SFR  </b> (M$_{\\odot}$/yr/kpc$^2$)\n",
    "   - <b> Sigma_CII  </b> (L$_{\\odot}$/kpc$^2$)\n",
    "   - <b> Sigma_OIII </b> (L$_{\\odot}$/kpc$^2$)\n",
    "   \n",
    "stadandard assumed error is 20%"
   ]
  },
  {
   "cell_type": "code",
   "execution_count": null,
   "metadata": {},
   "outputs": [],
   "source": [
    "galaxy_example = galaxy_template(\n",
    "                Sigma_SFR              = 2.0,\n",
    "                Sigma_CII              = 3.0e+7,\n",
    "                Sigma_OIII             = 7.0e+7,\n",
    "                rel_err_Sigma_CII      = 0.2,\n",
    "                rel_err_Sigma_OIII     = 0.2,\n",
    "                rel_err_Delta          = 0.2,\n",
    "               ):\n",
    "galaxy_example.print_info()"
   ]
  },
  {
   "cell_type": "markdown",
   "metadata": {},
   "source": [
    "# Set up the MCMC details\n",
    "\n",
    "There are 3 kind of parameters:\n",
    "\n",
    "   - priors\n",
    "   - walker initial position\n",
    "   - MCMC hyperparameters\n",
    "\n",
    "these can be set at initialization time of `MC_model` or at a later stage default parameters are adopted if no initialization is provided."
   ]
  },
  {
   "cell_type": "code",
   "execution_count": null,
   "metadata": {},
   "outputs": [],
   "source": [
    "mcr = MC_model()"
   ]
  },
  {
   "cell_type": "markdown",
   "metadata": {},
   "source": [
    "Set the ranges for the <b> flat priors </b> on log($n$), log($Z$), log($ks$) in the MCMC routines.\n",
    "\n",
    "The ranges are bound between (`lognMIN, lognMAX`) (`logZMIN, logZMAX`), (`logkMIN, logkMAX`)\n",
    "\n",
    "with the following defaults:"
   ]
  },
  {
   "cell_type": "code",
   "execution_count": null,
   "metadata": {},
   "outputs": [],
   "source": [
    "mcr.set_priors(lognMIN = 0.5, \n",
    "               lognMAX= 3.5,\n",
    "               logZMIN = -1.5, \n",
    "               logZMAX= 0, \n",
    "               logkMIN = -1, \n",
    "               logkMAX= 2.5)"
   ]
  },
  {
   "cell_type": "markdown",
   "metadata": {},
   "source": [
    "Set the <b> starting point </b>  i.e. the log($n_0$),log($Z_0$),log($k_0$) around which the walkers are initialized"
   ]
  },
  {
   "cell_type": "code",
   "execution_count": null,
   "metadata": {},
   "outputs": [],
   "source": [
    "mcr.set_walkers(logn0=2.0,\n",
    "                logZ0=-0.5,\n",
    "                logk0 = 0.3)"
   ]
  },
  {
   "cell_type": "markdown",
   "metadata": {},
   "source": [
    "Set the MCMC <b>hyperparameters</b>. For further details on the meaning of these parameters, \n",
    "please have a look at the emcee documentation at https://emcee.readthedocs.io/en/stable/\n",
    "- <b> n_walkers </b> i.e. the the number of walkers\n",
    "- <b> steps </b> i.e. the number of steps for each walker\n",
    "- <b> burn_in </b> i.e. the number of initial steps that one may want to discard (the so-called \"burn-in\")\n",
    "\n",
    "***Note that the default number of steps is very low and must be changed (i.e. likely increased) by the user.***"
   ]
  },
  {
   "cell_type": "code",
   "execution_count": null,
   "metadata": {},
   "outputs": [],
   "source": [
    "mcr.set_mc_parameters(\n",
    "        n_walkers = 10,\n",
    "        steps     = 200,\n",
    "        burn_in   = 50\n",
    "        )"
   ]
  },
  {
   "cell_type": "markdown",
   "metadata": {},
   "source": [
    "Print out your settings"
   ]
  },
  {
   "cell_type": "code",
   "execution_count": null,
   "metadata": {},
   "outputs": [],
   "source": [
    "mcr.print_info()"
   ]
  },
  {
   "cell_type": "markdown",
   "metadata": {},
   "source": [
    "Input the galaxy data you have constructed to the MCMC"
   ]
  },
  {
   "cell_type": "code",
   "execution_count": null,
   "metadata": {},
   "outputs": [],
   "source": [
    "mcr.set_galaxy_data(galaxy_data = galaxy_example)"
   ]
  },
  {
   "cell_type": "markdown",
   "metadata": {},
   "source": [
    "# Run the MCMC\n",
    "Further details on the possibile optimization of the MCMC algorithm and the outputs can be found in the documentation of emcee."
   ]
  },
  {
   "cell_type": "code",
   "execution_count": null,
   "metadata": {},
   "outputs": [],
   "source": [
    "flat_samples = mcr.run_model(verbose=True)"
   ]
  },
  {
   "cell_type": "markdown",
   "metadata": {},
   "source": [
    "# Plot the result\n",
    "For more information and details please refer to: https://corner.readthedocs.io/en/latest/pages/quickstart.html"
   ]
  },
  {
   "cell_type": "code",
   "execution_count": null,
   "metadata": {},
   "outputs": [],
   "source": [
    "import corner\n",
    "fig = corner.corner(flat_samples, labels=[\"log(n/cm$^{-3}$)\", \"log(Z/Z$_{\\odot}$)\", \"log($\\kappa_s$)\"])\n",
    "\n",
    "fig.savefig(\"test.png\")"
   ]
  }
 ],
 "metadata": {
  "kernelspec": {
   "display_name": "Python 3",
   "language": "python",
   "name": "python3"
  },
  "language_info": {
   "codemirror_mode": {
    "name": "ipython",
    "version": 3
   },
   "file_extension": ".py",
   "mimetype": "text/x-python",
   "name": "python",
   "nbconvert_exporter": "python",
   "pygments_lexer": "ipython3",
   "version": "3.8.3"
  }
 },
 "nbformat": 4,
 "nbformat_minor": 4
}
